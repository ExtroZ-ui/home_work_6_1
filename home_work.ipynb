{
 "cells": [
  {
   "cell_type": "code",
   "execution_count": 23,
   "metadata": {},
   "outputs": [
    {
     "name": "stdout",
     "output_type": "stream",
     "text": [
      "Файл visit_log.csv создан.\n",
      "Файл purchase_log.csv создан.\n"
     ]
    }
   ],
   "source": [
    "import csv\n",
    "\n",
    "# Создаем файл visit_log.csv\n",
    "visit_log_data = [\n",
    "    ['user_id', 'source'],\n",
    "    ['1840e0b9d4', 'other'],\n",
    "    ['4e4f90fcfb', 'context'],\n",
    "    ['4e2f1d3a70', 'email'],\n",
    "    ['abcdef1234', 'ads'],\n",
    "    ['1234abcdef', 'seo']\n",
    "]\n",
    "\n",
    "with open('visit_log.csv', mode='w', encoding='cp1251', newline='') as f:\n",
    "    writer = csv.writer(f)\n",
    "    writer.writerows(visit_log_data)\n",
    "\n",
    "print(\"Файл visit_log.csv создан.\")\n",
    "\n",
    "# Создаем файл purchase_log.csv\n",
    "purchase_log_data = [\n",
    "    ['user_id', 'category'],\n",
    "    ['1840e0b9d4', 'Продукты'],\n",
    "    ['4e4f90fcfb', 'Электроника'],\n",
    "    ['abcdef1234', 'Одежда']\n",
    "]\n",
    "\n",
    "with open('purchase_log.csv', mode='w', encoding='cp1251', newline='') as f:\n",
    "    writer = csv.writer(f)\n",
    "    writer.writerows(purchase_log_data)\n",
    "\n",
    "print(\"Файл purchase_log.csv создан.\")"
   ]
  },
  {
   "cell_type": "code",
   "execution_count": 24,
   "metadata": {},
   "outputs": [
    {
     "name": "stdout",
     "output_type": "stream",
     "text": [
      "{'encoding': 'ascii', 'confidence': 1.0, 'language': ''}\n"
     ]
    }
   ],
   "source": [
    "import chardet\n",
    "\n",
    "with open('visit_log.csv', 'rb') as f:\n",
    "    result = chardet.detect(f.read(10000))  # Проверяем первые 10 KB\n",
    "    print(result)"
   ]
  },
  {
   "cell_type": "code",
   "execution_count": 26,
   "metadata": {},
   "outputs": [
    {
     "name": "stdout",
     "output_type": "stream",
     "text": [
      "\n",
      "Содержимое файла funnel.csv:\n",
      "user_id,source,category\n",
      "1840e0b9d4,other,Продукты\n",
      "4e4f90fcfb,context,Электроника\n",
      "abcdef1234,ads,Одежда\n"
     ]
    }
   ],
   "source": [
    "import csv\n",
    "\n",
    "# Файлы\n",
    "visit_log_file = 'visit_log.csv'\n",
    "purchase_log_file = 'purchase_log.csv'\n",
    "funnel_file = 'funnel.csv'\n",
    "\n",
    "# Шаг 1: Считать данные о покупках\n",
    "purchases = {}\n",
    "with open(purchase_log_file, mode='r', encoding='cp1251') as f:\n",
    "    reader = csv.DictReader(f)\n",
    "    for row in reader:\n",
    "        purchases[row['user_id']] = row['category']\n",
    "\n",
    "# Шаг 2: Обработать visit_log.csv построчно\n",
    "with open(visit_log_file, mode='r', encoding='cp1251') as visits, \\\n",
    "     open(funnel_file, mode='w', encoding='utf-8', newline='') as funnel:\n",
    "    \n",
    "    reader = csv.DictReader(visits)\n",
    "    writer = csv.writer(funnel)\n",
    "    \n",
    "    # Записать заголовок в файл funnel.csv\n",
    "    writer.writerow(['user_id', 'source', 'category'])\n",
    "    \n",
    "    for row in reader:\n",
    "        user_id = row['user_id']\n",
    "        if user_id in purchases:\n",
    "            # Записать строку в файл funnel.csv\n",
    "            writer.writerow([user_id, row['source'], purchases[user_id]])\n",
    "            \n",
    "# Шаг 3: Вывести содержимое funnel.csv\n",
    "print(\"\\nСодержимое файла funnel.csv:\")\n",
    "with open(funnel_file, mode='r', encoding='utf-8') as f:\n",
    "    for line in f:\n",
    "        print(line.strip())\n"
   ]
  }
 ],
 "metadata": {
  "kernelspec": {
   "display_name": "Python 3",
   "language": "python",
   "name": "python3"
  },
  "language_info": {
   "codemirror_mode": {
    "name": "ipython",
    "version": 3
   },
   "file_extension": ".py",
   "mimetype": "text/x-python",
   "name": "python",
   "nbconvert_exporter": "python",
   "pygments_lexer": "ipython3",
   "version": "3.11.9"
  }
 },
 "nbformat": 4,
 "nbformat_minor": 2
}
